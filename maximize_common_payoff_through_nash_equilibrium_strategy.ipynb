{
 "cells": [
  {
   "cell_type": "markdown",
   "metadata": {},
   "source": [
    "## Maximizing mutual benefit by implementing Nash Equilibrium strategy in Non-Zero-Sum Competitive Games"
   ]
  },
  {
   "cell_type": "code",
   "execution_count": 2,
   "metadata": {},
   "outputs": [],
   "source": [
    "# my imports\n",
    "from random import shuffle\n",
    "import numpy as np\n",
    "import matplotlib.pyplot as plt \n",
    "import pandas as pd\n",
    "\n"
   ]
  },
  {
   "cell_type": "markdown",
   "metadata": {},
   "source": [
    "### Abstract:\n",
    "The aim of this project is to explore the applicability and effectiveness of the Nash Equilibrium concept in a finite non-zero-sum competitive games such as Prisoner's dilemma, Battle of the Sexes, Deadlock, etc. By analyzing various game scenarios and implementing Nash equilibrium strategies, the project seeks to prove that the mutual benefits (combined payoff) of equilibrium outcomes are superior compared to purely competitive strategies or best outcome actions in long-term finite competitive interactions. Outside of the project's scope are the cooperative scenarios and multi-level stochastic (Markov) games as these scenarios have been extensively examined in previous works."
   ]
  },
  {
   "cell_type": "markdown",
   "metadata": {},
   "source": [
    "### 1. Introduction to Game Theory:\n",
    "What is Game Theory?\n",
    "Significance and practical applications of Game Theory."
   ]
  },
  {
   "cell_type": "markdown",
   "metadata": {},
   "source": [
    "### 2. Introduction to Nash Equilibrium:\n",
    "Overview of Nash equilibrium as a solution concept in game theory and previous research.\n",
    "Explanation of Nash Equilibrium's relevance in competitive environments and its implications in the process of strategic decision-making."
   ]
  },
  {
   "cell_type": "markdown",
   "metadata": {},
   "source": [
    "### 3. Characteristics of Non-Zero-Sum Games:\n",
    "Definition and characteristics of non-zero sum games.\n",
    "Distinction from zero-sum games and implications for strategic interactions."
   ]
  },
  {
   "cell_type": "markdown",
   "metadata": {},
   "source": [
    "### 4. Mutual Benefits in Non-Zero-Sum Games:\n",
    "How Nash equilibrium strategies can lead to mutually beneficial outcomes in non-zero sum games.\n",
    "Scenarios where cooperation among rational agents yields superior outcomes compared to purely competitive strategies."
   ]
  },
  {
   "cell_type": "markdown",
   "metadata": {},
   "source": [
    "### 5. Examples of Non-Zero-Sum Competitive Games:\n",
    "Identification of specific game scenarios of non-zero-sum competitive interactions.\n",
    "Description of each game scenario and its strategic dynamics."
   ]
  },
  {
   "cell_type": "markdown",
   "metadata": {},
   "source": [
    "### 6. Implementation of Nash Equilibrium Strategies:\n",
    "Methodology for implementing Nash equilibrium strategies in non-zero-sum games.\n",
    "Computational techniques and software tools for analyzing equilibrium outcomes."
   ]
  },
  {
   "cell_type": "markdown",
   "metadata": {},
   "source": [
    "### 7. Simulation Results:\n",
    "Presentation of simulation results for the selected game scenarios.\n",
    "Analysis of equilibrium strategies and outcomes."
   ]
  },
  {
   "cell_type": "code",
   "execution_count": 3,
   "metadata": {},
   "outputs": [],
   "source": [
    "# function used to randomize the numbers for a 4 x 4 matrix\n",
    "def randomize():\n",
    "    numbers = list(range(1, 9))\n",
    "    shuffle(numbers)\n",
    "    numbers_for_matrix = numbers[0:4]\n",
    "    return numbers_for_matrix"
   ]
  },
  {
   "cell_type": "code",
   "execution_count": 124,
   "metadata": {},
   "outputs": [],
   "source": [
    "def find_nash_equilibrium(numbers_for_a, numbers_for_b):\n",
    "    \n",
    "    #build the game matrix:\n",
    "\n",
    "\n",
    "    matrix = (numbers_for_a, numbers_for_b)\n",
    "\n",
    "    # get all possible outcomes as objects {coordinate; value}:\n",
    "    l_l_a = {'coordinates': (0, 0), 'value': matrix[0][0]} # if b goes left, a goes left value for A\n",
    "    l_r_a = {'coordinates': (0, 1), 'value': matrix[0][1]} # if b goes left, a goes right value for A\n",
    "    r_l_a = {'coordinates': (0, 2), 'value': matrix[0][2]} # if b goes right, a goes left value for A\n",
    "    r_r_a = {'coordinates': (0, 3), 'value': matrix[0][3]} # if b goes right, a goes right value for A\n",
    "    l_l_b = {'coordinates': (1, 0), 'value': matrix[1][0]} # if a goes left, b goes left value for B\n",
    "    l_r_b = {'coordinates': (1, 1), 'value': matrix[1][1]} # if a goes left, b goes right value for B\n",
    "    r_l_b = {'coordinates': (1, 2), 'value': matrix[1][2]} # if a goes right, b goes left value for B\n",
    "    r_r_b = {'coordinates': (1, 3), 'value': matrix[1][3]} # if a goes right, b goes right value for B\n",
    "\n",
    "    # find best outcomes for each oposing player decision from type \"A goes left - B best outcome\":\n",
    "    find_max_and_index = lambda x, y: (x['value'], x['coordinates'][1]) if x['value'] > y['value'] else (y['value'], y['coordinates'][1])\n",
    "\n",
    "    b_goes_left_a_best_outcome, b_goes_left_a_best_outcome_index = find_max_and_index(l_l_a, l_r_a)\n",
    "    b_goes_right_a_best_outcome, b_goes_right_a_best_outcome_index = find_max_and_index(r_l_a, r_r_a)\n",
    "    a_goes_left_b_best_outcome, a_goes_left_b_best_outcome_index = find_max_and_index(l_l_b, l_r_b)\n",
    "    a_goes_right_b_best_outcome, a_goes_right_b_best_outcome_index = find_max_and_index(r_l_b, r_r_b)\n",
    "\n",
    "    # QA:\n",
    "    # print('      Left | Right')\n",
    "    # print('      -----------')\n",
    "    # print(f\"Left  {l_l_a['value']}, {l_l_b['value']} | {l_r_a['value']}, {l_r_b['value']}\")\n",
    "    # print('      -----------')\n",
    "    # print(f\"Right {r_l_a['value']}, {r_l_b['value']} | {r_r_a['value']}, {r_r_b['value']}\")\n",
    "    # print('      -----------')\n",
    "    # print(f'b_goes_left_a_best_outcome: {b_goes_left_a_best_outcome}')\n",
    "    # print(f'b_goes_left_a_best_outcome_index: {b_goes_left_a_best_outcome_index}')\n",
    "    # print(f'b_goes_right_a_best_outcome: {b_goes_right_a_best_outcome}')\n",
    "    # print(f'b_goes_right_a_best_outcome_index: {b_goes_right_a_best_outcome_index}')\n",
    "    # print(f'a_goes_left_b_best_outcome:{a_goes_left_b_best_outcome}')\n",
    "    # print(f'a_goes_left_b_best_outcome_index: {a_goes_left_b_best_outcome_index}')\n",
    "    # print(f'a_goes_right_b_best_outcome: {a_goes_right_b_best_outcome}')\n",
    "    # print(f'a_goes_right_b_best_outcome_index: {a_goes_right_b_best_outcome_index}')\n",
    "\n",
    "    # check if Nash Equilibrium exist for the given matrix:\n",
    "    if b_goes_left_a_best_outcome_index == a_goes_left_b_best_outcome_index or \\\n",
    "    b_goes_left_a_best_outcome_index == a_goes_right_b_best_outcome_index or \\\n",
    "    b_goes_right_a_best_outcome_index == a_goes_left_b_best_outcome_index or \\\n",
    "    b_goes_right_a_best_outcome_index == a_goes_right_b_best_outcome_index:\n",
    "        # print('We have a Nash equalibrium')\n",
    "        set_intersection = set([b_goes_left_a_best_outcome_index, b_goes_right_a_best_outcome_index])\\\n",
    "            .intersection(set([a_goes_left_b_best_outcome_index,a_goes_right_b_best_outcome_index]))\n",
    "        # print(f'The Nash Equalibrium is on indexes {set_intersection}')\n",
    "        number_of_nas = len(set_intersection)\n",
    "        # print(f'There are {number_of_nas} Nash equilibriums')\n",
    "        nash_sums = [numbers_for_a[x] + numbers_for_b[x] for x in list(set_intersection)]\n",
    "        max_of_nash_sums = max(nash_sums)\n",
    "        # print(f'The sums of NAs are {nash_sums}')\n",
    "        # print(f'The larger NA is {max_of_nash_sums}')\n",
    "    else: \n",
    "        # print('There is no Nash Equilibrium')\n",
    "        return 0, 0, 0\n",
    "\n",
    "\n",
    "\n",
    "    # find and return best Nash Equilibrium, best outcome for A payoff sum and best outcome for B payoff sum:\n",
    "    max_a = max(numbers_for_a)\n",
    "    b_for_max_a = numbers_for_b[numbers_for_a.index(max_a)]\n",
    "    sum_for_max_a = max_a + b_for_max_a\n",
    "    max_b = max(numbers_for_b)\n",
    "    a_for_max_b = numbers_for_a[numbers_for_b.index(max_b)]\n",
    "    sum_for_max_b = max_b + a_for_max_b\n",
    "\n",
    "    # QA:\n",
    "    # print(f'max for A is {max_a} with B {b_for_max_a}')\n",
    "    # print(f'max for B is {max_b} with A {a_for_max_b}')\n",
    "    # print(f'sum for max A is {sum_for_max_a} and sum for max for B is {sum_for_max_b}')\n",
    "    \n",
    "    return max_of_nash_sums, sum_for_max_a, sum_for_max_b\n",
    "\n"
   ]
  },
  {
   "cell_type": "code",
   "execution_count": 122,
   "metadata": {},
   "outputs": [
    {
     "data": {
      "text/plain": [
       "(0, 0, 0)"
      ]
     },
     "execution_count": 122,
     "metadata": {},
     "output_type": "execute_result"
    }
   ],
   "source": [
    "find_nash_equilibrium()"
   ]
  },
  {
   "cell_type": "code",
   "execution_count": 126,
   "metadata": {},
   "outputs": [
    {
     "data": {
      "image/png": "[encoded data removed]",
      "text/plain": [
       "<Figure size 640x480 with 1 Axes>"
      ]
     },
     "metadata": {},
     "output_type": "display_data"
    }
   ],
   "source": [
    "nash_eq = []\n",
    "a_max = []\n",
    "b_max = []\n",
    "n_temp = 0\n",
    "a_temp = 0\n",
    "b_temp = 0\n",
    "for i in range(1_000_000):\n",
    "    numbers_for_a = randomize()\n",
    "    numbers_for_b = randomize()\n",
    "    n, a, b = find_nash_equilibrium(numbers_for_a, numbers_for_b)\n",
    "    n_temp += n\n",
    "    a_temp += a\n",
    "    b_temp += b\n",
    "    nash_eq.append(n_temp)\n",
    "    a_max.append(a_temp)\n",
    "    b_max.append(b_temp)\n",
    "x = list(range(1, len(nash_eq) + 1))\n",
    "plt.plot(x, nash_eq, label = 'Nash Eq.')\n",
    "plt.plot(x, a_max, label = 'Best A outcome')\n",
    "plt.plot(x, b_max, label = 'Best B outcome')\n",
    "plt.legend()\n",
    "plt.xlabel('Atempts')\n",
    "plt.ylabel('Payoff')\n",
    "plt.show()"
   ]
  },
  {
   "cell_type": "markdown",
   "metadata": {},
   "source": [
    "### 8. Comparison with Alternative Strategies:\n",
    "Comparison of Nash equilibrium strategies with alternative approaches in non-zero-sum games.\n",
    "Evaluation of the effectiveness and robustness of Nash equilibrium solutions."
   ]
  },
  {
   "cell_type": "markdown",
   "metadata": {},
   "source": [
    "### 9. Implications for Strategic Decision Making:\n",
    "Insights into the practical implications of Nash equilibrium in real-world competitive environments.\n",
    "Recommendations for strategic decision-makers based on the project findings."
   ]
  },
  {
   "cell_type": "markdown",
   "metadata": {},
   "source": [
    "### 10. Conclusion and Future Directions:\n",
    "Summary of key findings and conclusions drawn from the project.\n",
    "Suggestions for future research directions and potential areas of exploration in non-zero-sum game theory."
   ]
  },
  {
   "cell_type": "markdown",
   "metadata": {},
   "source": [
    "### References"
   ]
  }
 ],
 "metadata": {
  "kernelspec": {
   "display_name": "base",
   "language": "python",
   "name": "python3"
  },
  "language_info": {
   "codemirror_mode": {
    "name": "ipython",
    "version": 3
   },
   "file_extension": ".py",
   "mimetype": "text/x-python",
   "name": "python",
   "nbconvert_exporter": "python",
   "pygments_lexer": "ipython3",
   "version": "3.11.1"
  }
 },
 "nbformat": 4,
 "nbformat_minor": 2
}
